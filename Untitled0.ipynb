{
  "nbformat": 4,
  "nbformat_minor": 0,
  "metadata": {
    "colab": {
      "provenance": [],
      "authorship_tag": "ABX9TyOB6PdooYcj/GKYwsoh4Vf+"
    },
    "kernelspec": {
      "name": "python3",
      "display_name": "Python 3"
    },
    "language_info": {
      "name": "python"
    }
  },
  "cells": [
    {
      "cell_type": "markdown",
      "source": [
        "#gshdh\n",
        "gdfgd"
      ],
      "metadata": {
        "id": "xlYqQOLLjupP"
      }
    },
    {
      "cell_type": "code",
      "execution_count": 1,
      "metadata": {
        "id": "dfmZk8nqi1t2"
      },
      "outputs": [],
      "source": [
        "import pandas as pd"
      ]
    },
    {
      "cell_type": "markdown",
      "source": [],
      "metadata": {
        "id": "aiHGcWi9jrfU"
      }
    },
    {
      "cell_type": "code",
      "source": [],
      "metadata": {
        "id": "w_QSzUQ-jl0N"
      },
      "execution_count": null,
      "outputs": []
    }
  ]
}